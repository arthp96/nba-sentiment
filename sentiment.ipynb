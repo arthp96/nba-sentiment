{
 "cells": [
  {
   "cell_type": "code",
   "execution_count": 1,
   "metadata": {},
   "outputs": [],
   "source": [
    "import pandas as pd\n",
    "from transformers import pipeline"
   ]
  },
  {
   "cell_type": "code",
   "execution_count": 2,
   "metadata": {},
   "outputs": [
    {
     "data": {
      "text/html": [
       "<div>\n",
       "<style scoped>\n",
       "    .dataframe tbody tr th:only-of-type {\n",
       "        vertical-align: middle;\n",
       "    }\n",
       "\n",
       "    .dataframe tbody tr th {\n",
       "        vertical-align: top;\n",
       "    }\n",
       "\n",
       "    .dataframe thead th {\n",
       "        text-align: right;\n",
       "    }\n",
       "</style>\n",
       "<table border=\"1\" class=\"dataframe\">\n",
       "  <thead>\n",
       "    <tr style=\"text-align: right;\">\n",
       "      <th></th>\n",
       "      <th>_replies</th>\n",
       "      <th>_submission</th>\n",
       "      <th>_reddit</th>\n",
       "      <th>subreddit_id</th>\n",
       "      <th>approved_at_utc</th>\n",
       "      <th>author_is_blocked</th>\n",
       "      <th>comment_type</th>\n",
       "      <th>awarders</th>\n",
       "      <th>mod_reason_by</th>\n",
       "      <th>banned_by</th>\n",
       "      <th>...</th>\n",
       "      <th>subreddit_name_prefixed</th>\n",
       "      <th>controversiality</th>\n",
       "      <th>depth</th>\n",
       "      <th>author_flair_background_color</th>\n",
       "      <th>collapsed_because_crowd_control</th>\n",
       "      <th>mod_reports</th>\n",
       "      <th>num_reports</th>\n",
       "      <th>ups</th>\n",
       "      <th>_fetched</th>\n",
       "      <th>author_cakeday</th>\n",
       "    </tr>\n",
       "  </thead>\n",
       "  <tbody>\n",
       "    <tr>\n",
       "      <th>0</th>\n",
       "      <td>&lt;praw.models.comment_forest.CommentForest obje...</td>\n",
       "      <td>10j6nqv</td>\n",
       "      <td>&lt;praw.reddit.Reddit object at 0x12722b550&gt;</td>\n",
       "      <td>t5_2qo4s</td>\n",
       "      <td>NaN</td>\n",
       "      <td>False</td>\n",
       "      <td>NaN</td>\n",
       "      <td>[]</td>\n",
       "      <td>NaN</td>\n",
       "      <td>NaN</td>\n",
       "      <td>...</td>\n",
       "      <td>r/nba</td>\n",
       "      <td>0</td>\n",
       "      <td>0</td>\n",
       "      <td>NaN</td>\n",
       "      <td>NaN</td>\n",
       "      <td>[]</td>\n",
       "      <td>NaN</td>\n",
       "      <td>1</td>\n",
       "      <td>True</td>\n",
       "      <td>NaN</td>\n",
       "    </tr>\n",
       "    <tr>\n",
       "      <th>1</th>\n",
       "      <td>&lt;praw.models.comment_forest.CommentForest obje...</td>\n",
       "      <td>10j6nqv</td>\n",
       "      <td>&lt;praw.reddit.Reddit object at 0x12722b550&gt;</td>\n",
       "      <td>t5_2qo4s</td>\n",
       "      <td>NaN</td>\n",
       "      <td>False</td>\n",
       "      <td>NaN</td>\n",
       "      <td>[]</td>\n",
       "      <td>NaN</td>\n",
       "      <td>NaN</td>\n",
       "      <td>...</td>\n",
       "      <td>r/nba</td>\n",
       "      <td>0</td>\n",
       "      <td>0</td>\n",
       "      <td>NaN</td>\n",
       "      <td>NaN</td>\n",
       "      <td>[]</td>\n",
       "      <td>NaN</td>\n",
       "      <td>27</td>\n",
       "      <td>True</td>\n",
       "      <td>NaN</td>\n",
       "    </tr>\n",
       "    <tr>\n",
       "      <th>2</th>\n",
       "      <td>&lt;praw.models.comment_forest.CommentForest obje...</td>\n",
       "      <td>10j6nqv</td>\n",
       "      <td>&lt;praw.reddit.Reddit object at 0x12722b550&gt;</td>\n",
       "      <td>t5_2qo4s</td>\n",
       "      <td>NaN</td>\n",
       "      <td>False</td>\n",
       "      <td>NaN</td>\n",
       "      <td>[]</td>\n",
       "      <td>NaN</td>\n",
       "      <td>NaN</td>\n",
       "      <td>...</td>\n",
       "      <td>r/nba</td>\n",
       "      <td>0</td>\n",
       "      <td>0</td>\n",
       "      <td>#edeff1</td>\n",
       "      <td>NaN</td>\n",
       "      <td>[]</td>\n",
       "      <td>NaN</td>\n",
       "      <td>22</td>\n",
       "      <td>True</td>\n",
       "      <td>NaN</td>\n",
       "    </tr>\n",
       "    <tr>\n",
       "      <th>3</th>\n",
       "      <td>&lt;praw.models.comment_forest.CommentForest obje...</td>\n",
       "      <td>10j6nqv</td>\n",
       "      <td>&lt;praw.reddit.Reddit object at 0x12722b550&gt;</td>\n",
       "      <td>t5_2qo4s</td>\n",
       "      <td>NaN</td>\n",
       "      <td>False</td>\n",
       "      <td>NaN</td>\n",
       "      <td>[]</td>\n",
       "      <td>NaN</td>\n",
       "      <td>NaN</td>\n",
       "      <td>...</td>\n",
       "      <td>r/nba</td>\n",
       "      <td>0</td>\n",
       "      <td>0</td>\n",
       "      <td>#edeff1</td>\n",
       "      <td>NaN</td>\n",
       "      <td>[]</td>\n",
       "      <td>NaN</td>\n",
       "      <td>10</td>\n",
       "      <td>True</td>\n",
       "      <td>NaN</td>\n",
       "    </tr>\n",
       "    <tr>\n",
       "      <th>4</th>\n",
       "      <td>&lt;praw.models.comment_forest.CommentForest obje...</td>\n",
       "      <td>10j6nqv</td>\n",
       "      <td>&lt;praw.reddit.Reddit object at 0x12722b550&gt;</td>\n",
       "      <td>t5_2qo4s</td>\n",
       "      <td>NaN</td>\n",
       "      <td>False</td>\n",
       "      <td>NaN</td>\n",
       "      <td>[]</td>\n",
       "      <td>NaN</td>\n",
       "      <td>NaN</td>\n",
       "      <td>...</td>\n",
       "      <td>r/nba</td>\n",
       "      <td>0</td>\n",
       "      <td>0</td>\n",
       "      <td>#edeff1</td>\n",
       "      <td>NaN</td>\n",
       "      <td>[]</td>\n",
       "      <td>NaN</td>\n",
       "      <td>7</td>\n",
       "      <td>True</td>\n",
       "      <td>NaN</td>\n",
       "    </tr>\n",
       "  </tbody>\n",
       "</table>\n",
       "<p>5 rows × 74 columns</p>\n",
       "</div>"
      ],
      "text/plain": [
       "                                            _replies _submission  \\\n",
       "0  <praw.models.comment_forest.CommentForest obje...     10j6nqv   \n",
       "1  <praw.models.comment_forest.CommentForest obje...     10j6nqv   \n",
       "2  <praw.models.comment_forest.CommentForest obje...     10j6nqv   \n",
       "3  <praw.models.comment_forest.CommentForest obje...     10j6nqv   \n",
       "4  <praw.models.comment_forest.CommentForest obje...     10j6nqv   \n",
       "\n",
       "                                      _reddit subreddit_id  approved_at_utc  \\\n",
       "0  <praw.reddit.Reddit object at 0x12722b550>     t5_2qo4s              NaN   \n",
       "1  <praw.reddit.Reddit object at 0x12722b550>     t5_2qo4s              NaN   \n",
       "2  <praw.reddit.Reddit object at 0x12722b550>     t5_2qo4s              NaN   \n",
       "3  <praw.reddit.Reddit object at 0x12722b550>     t5_2qo4s              NaN   \n",
       "4  <praw.reddit.Reddit object at 0x12722b550>     t5_2qo4s              NaN   \n",
       "\n",
       "   author_is_blocked  comment_type awarders  mod_reason_by  banned_by  ...  \\\n",
       "0              False           NaN       []            NaN        NaN  ...   \n",
       "1              False           NaN       []            NaN        NaN  ...   \n",
       "2              False           NaN       []            NaN        NaN  ...   \n",
       "3              False           NaN       []            NaN        NaN  ...   \n",
       "4              False           NaN       []            NaN        NaN  ...   \n",
       "\n",
       "  subreddit_name_prefixed  controversiality depth  \\\n",
       "0                   r/nba                 0     0   \n",
       "1                   r/nba                 0     0   \n",
       "2                   r/nba                 0     0   \n",
       "3                   r/nba                 0     0   \n",
       "4                   r/nba                 0     0   \n",
       "\n",
       "  author_flair_background_color  collapsed_because_crowd_control mod_reports  \\\n",
       "0                           NaN                              NaN          []   \n",
       "1                           NaN                              NaN          []   \n",
       "2                       #edeff1                              NaN          []   \n",
       "3                       #edeff1                              NaN          []   \n",
       "4                       #edeff1                              NaN          []   \n",
       "\n",
       "   num_reports ups  _fetched  author_cakeday  \n",
       "0          NaN   1      True             NaN  \n",
       "1          NaN  27      True             NaN  \n",
       "2          NaN  22      True             NaN  \n",
       "3          NaN  10      True             NaN  \n",
       "4          NaN   7      True             NaN  \n",
       "\n",
       "[5 rows x 74 columns]"
      ]
     },
     "execution_count": 2,
     "metadata": {},
     "output_type": "execute_result"
    }
   ],
   "source": [
    "comments = pd.read_csv('comments.csv')\n",
    "comments.head()"
   ]
  },
  {
   "cell_type": "code",
   "execution_count": 3,
   "metadata": {},
   "outputs": [],
   "source": [
    "comments_list = comments['body'].tolist()"
   ]
  },
  {
   "cell_type": "code",
   "execution_count": 4,
   "metadata": {},
   "outputs": [
    {
     "data": {
      "text/plain": [
       "['**Replays/alternate angles**\\n\\n*I am a bot, and this action was performed automatically. Please [contact the moderators of this subreddit](/message/compose/?to=/r/nba) if you have any questions or concerns.*',\n",
       " 'tj was ass tonight, thank god sean marks picked up royce',\n",
       " \"Closest thing I've seen to that famous Curry handles + three against LAC. Too bad TJ couldn't finish\",\n",
       " 'Kyrie is just silly',\n",
       " \"Pretty good defense by Steph. Look how fast he is shuffling his feet on d so he doesn't turn into a cone and get blown by. Solid footwork on both sides of the ball here\"]"
      ]
     },
     "execution_count": 4,
     "metadata": {},
     "output_type": "execute_result"
    }
   ],
   "source": [
    "comments_list[:5]"
   ]
  },
  {
   "cell_type": "code",
   "execution_count": 5,
   "metadata": {},
   "outputs": [],
   "source": [
    "pipes = pipeline('sentiment-analysis', model='cardiffnlp/twitter-roberta-base-sentiment')"
   ]
  },
  {
   "cell_type": "code",
   "execution_count": 6,
   "metadata": {},
   "outputs": [
    {
     "data": {
      "text/plain": [
       "[{'label': 'LABEL_1', 'score': 0.7120438814163208},\n",
       " {'label': 'LABEL_1', 'score': 0.4339231252670288},\n",
       " {'label': 'LABEL_0', 'score': 0.5216794013977051},\n",
       " {'label': 'LABEL_0', 'score': 0.923305869102478},\n",
       " {'label': 'LABEL_2', 'score': 0.9170762896537781}]"
      ]
     },
     "execution_count": 6,
     "metadata": {},
     "output_type": "execute_result"
    }
   ],
   "source": [
    "pipes(comments_list[:5])"
   ]
  },
  {
   "cell_type": "code",
   "execution_count": 7,
   "metadata": {},
   "outputs": [
    {
     "name": "stderr",
     "output_type": "stream",
     "text": [
      "Some weights of the model checkpoint at cardiffnlp/twitter-roberta-base-sentiment-latest were not used when initializing RobertaForSequenceClassification: ['roberta.pooler.dense.bias', 'roberta.pooler.dense.weight']\n",
      "- This IS expected if you are initializing RobertaForSequenceClassification from the checkpoint of a model trained on another task or with another architecture (e.g. initializing a BertForSequenceClassification model from a BertForPreTraining model).\n",
      "- This IS NOT expected if you are initializing RobertaForSequenceClassification from the checkpoint of a model that you expect to be exactly identical (initializing a BertForSequenceClassification model from a BertForSequenceClassification model).\n"
     ]
    }
   ],
   "source": [
    "import tweetnlp\n",
    "model = tweetnlp.load_model('sentiment')"
   ]
  },
  {
   "cell_type": "code",
   "execution_count": 8,
   "metadata": {},
   "outputs": [
    {
     "data": {
      "text/plain": [
       "[{'label': 'neutral',\n",
       "  'probability': {'negative': 0.3107525110244751,\n",
       "   'neutral': 0.6677683591842651,\n",
       "   'positive': 0.021479221060872078}},\n",
       " {'label': 'negative',\n",
       "  'probability': {'negative': 0.891562283039093,\n",
       "   'neutral': 0.0966690182685852,\n",
       "   'positive': 0.01176863256841898}},\n",
       " {'label': 'neutral',\n",
       "  'probability': {'negative': 0.4507766664028168,\n",
       "   'neutral': 0.46268752217292786,\n",
       "   'positive': 0.08653582632541656}},\n",
       " {'label': 'negative',\n",
       "  'probability': {'negative': 0.7646517753601074,\n",
       "   'neutral': 0.21146515011787415,\n",
       "   'positive': 0.023883018642663956}},\n",
       " {'label': 'positive',\n",
       "  'probability': {'negative': 0.015258917585015297,\n",
       "   'neutral': 0.16102376580238342,\n",
       "   'positive': 0.8237172365188599}}]"
      ]
     },
     "execution_count": 8,
     "metadata": {},
     "output_type": "execute_result"
    }
   ],
   "source": [
    "model.sentiment(comments_list[:5], return_probability=True)"
   ]
  },
  {
   "cell_type": "code",
   "execution_count": 9,
   "metadata": {},
   "outputs": [],
   "source": [
    "import spacy\n",
    "from spacy import displacy\n",
    "from spacy import tokenizer"
   ]
  },
  {
   "cell_type": "code",
   "execution_count": 16,
   "metadata": {},
   "outputs": [
    {
     "name": "stdout",
     "output_type": "stream",
     "text": [
      "Pretty\n",
      "good\n",
      "defense\n",
      "by\n",
      "Steph\n",
      ".\n",
      "Look\n",
      "how\n",
      "fast\n",
      "he\n",
      "is\n",
      "shuffling\n",
      "his\n",
      "feet\n",
      "on\n",
      "d\n",
      "so\n",
      "he\n",
      "does\n",
      "n't\n",
      "turn\n",
      "into\n",
      "a\n",
      "cone\n",
      "and\n",
      "get\n",
      "blown\n",
      "by\n",
      ".\n",
      "Solid\n",
      "footwork\n",
      "on\n",
      "both\n",
      "sides\n",
      "of\n",
      "the\n",
      "ball\n",
      "here\n",
      "[('Steph', 23, 28, 'PERSON')]\n"
     ]
    }
   ],
   "source": [
    "nlp = spacy.load('en_core_web_sm')\n",
    "doc = nlp(comments_list[4])\n",
    "sentences = list(doc.sents)\n",
    "\n",
    "for token in doc:\n",
    "    print(token.text)\n",
    "\n",
    "ents = [(e.text, e.start_char, e.end_char, e.label_) for e in doc.ents]\n",
    "print(ents)"
   ]
  },
  {
   "cell_type": "code",
   "execution_count": 25,
   "metadata": {},
   "outputs": [
    {
     "data": {
      "text/plain": [
       "['Steph']"
      ]
     },
     "execution_count": 25,
     "metadata": {},
     "output_type": "execute_result"
    }
   ],
   "source": [
    "names = [e.text for e in doc.ents]\n",
    "names"
   ]
  },
  {
   "cell_type": "code",
   "execution_count": 13,
   "metadata": {},
   "outputs": [],
   "source": [
    "current_players = pd.read_csv('current_players')"
   ]
  },
  {
   "cell_type": "code",
   "execution_count": 14,
   "metadata": {},
   "outputs": [
    {
     "data": {
      "text/html": [
       "<div>\n",
       "<style scoped>\n",
       "    .dataframe tbody tr th:only-of-type {\n",
       "        vertical-align: middle;\n",
       "    }\n",
       "\n",
       "    .dataframe tbody tr th {\n",
       "        vertical-align: top;\n",
       "    }\n",
       "\n",
       "    .dataframe thead th {\n",
       "        text-align: right;\n",
       "    }\n",
       "</style>\n",
       "<table border=\"1\" class=\"dataframe\">\n",
       "  <thead>\n",
       "    <tr style=\"text-align: right;\">\n",
       "      <th></th>\n",
       "      <th>full_name</th>\n",
       "      <th>first_name</th>\n",
       "      <th>last_name</th>\n",
       "    </tr>\n",
       "  </thead>\n",
       "  <tbody>\n",
       "    <tr>\n",
       "      <th>0</th>\n",
       "      <td>Precious Achiuwa</td>\n",
       "      <td>Precious</td>\n",
       "      <td>Achiuwa</td>\n",
       "    </tr>\n",
       "    <tr>\n",
       "      <th>1</th>\n",
       "      <td>Steven Adams</td>\n",
       "      <td>Steven</td>\n",
       "      <td>Adams</td>\n",
       "    </tr>\n",
       "    <tr>\n",
       "      <th>2</th>\n",
       "      <td>Bam Adebayo</td>\n",
       "      <td>Bam</td>\n",
       "      <td>Adebayo</td>\n",
       "    </tr>\n",
       "    <tr>\n",
       "      <th>3</th>\n",
       "      <td>Ochai Agbaji</td>\n",
       "      <td>Ochai</td>\n",
       "      <td>Agbaji</td>\n",
       "    </tr>\n",
       "    <tr>\n",
       "      <th>4</th>\n",
       "      <td>Santi Aldama</td>\n",
       "      <td>Santi</td>\n",
       "      <td>Aldama</td>\n",
       "    </tr>\n",
       "    <tr>\n",
       "      <th>...</th>\n",
       "      <td>...</td>\n",
       "      <td>...</td>\n",
       "      <td>...</td>\n",
       "    </tr>\n",
       "    <tr>\n",
       "      <th>672</th>\n",
       "      <td>Thaddeus Young</td>\n",
       "      <td>Thaddeus</td>\n",
       "      <td>Young</td>\n",
       "    </tr>\n",
       "    <tr>\n",
       "      <th>673</th>\n",
       "      <td>Trae Young</td>\n",
       "      <td>Trae</td>\n",
       "      <td>Young</td>\n",
       "    </tr>\n",
       "    <tr>\n",
       "      <th>674</th>\n",
       "      <td>Omer Yurtseven</td>\n",
       "      <td>Omer</td>\n",
       "      <td>Yurtseven</td>\n",
       "    </tr>\n",
       "    <tr>\n",
       "      <th>675</th>\n",
       "      <td>Cody Zeller</td>\n",
       "      <td>Cody</td>\n",
       "      <td>Zeller</td>\n",
       "    </tr>\n",
       "    <tr>\n",
       "      <th>676</th>\n",
       "      <td>Ivica Zubac</td>\n",
       "      <td>Ivica</td>\n",
       "      <td>Zubac</td>\n",
       "    </tr>\n",
       "  </tbody>\n",
       "</table>\n",
       "<p>677 rows × 3 columns</p>\n",
       "</div>"
      ],
      "text/plain": [
       "            full_name first_name  last_name\n",
       "0    Precious Achiuwa   Precious    Achiuwa\n",
       "1        Steven Adams     Steven      Adams\n",
       "2         Bam Adebayo        Bam    Adebayo\n",
       "3        Ochai Agbaji      Ochai     Agbaji\n",
       "4        Santi Aldama      Santi     Aldama\n",
       "..                ...        ...        ...\n",
       "672    Thaddeus Young   Thaddeus      Young\n",
       "673        Trae Young       Trae      Young\n",
       "674    Omer Yurtseven       Omer  Yurtseven\n",
       "675       Cody Zeller       Cody     Zeller\n",
       "676       Ivica Zubac      Ivica      Zubac\n",
       "\n",
       "[677 rows x 3 columns]"
      ]
     },
     "execution_count": 14,
     "metadata": {},
     "output_type": "execute_result"
    }
   ],
   "source": [
    "current_players"
   ]
  },
  {
   "cell_type": "code",
   "execution_count": 15,
   "metadata": {},
   "outputs": [],
   "source": [
    "from fuzzywuzzy import fuzz"
   ]
  },
  {
   "cell_type": "code",
   "execution_count": 35,
   "metadata": {},
   "outputs": [
    {
     "data": {
      "text/plain": [
       "56"
      ]
     },
     "execution_count": 35,
     "metadata": {},
     "output_type": "execute_result"
    }
   ],
   "source": [
    "fuzz.token_set_ratio('Steph', 'Stephen Curry')"
   ]
  }
 ],
 "metadata": {
  "kernelspec": {
   "display_name": "tensorflow",
   "language": "python",
   "name": "python3"
  },
  "language_info": {
   "codemirror_mode": {
    "name": "ipython",
    "version": 3
   },
   "file_extension": ".py",
   "mimetype": "text/x-python",
   "name": "python",
   "nbconvert_exporter": "python",
   "pygments_lexer": "ipython3",
   "version": "3.10.8"
  },
  "orig_nbformat": 4,
  "vscode": {
   "interpreter": {
    "hash": "e891372cbf097d62497467590c2b6ea410f6cc20d84fdf1e0f3cce0c0eaaa3c9"
   }
  }
 },
 "nbformat": 4,
 "nbformat_minor": 2
}
